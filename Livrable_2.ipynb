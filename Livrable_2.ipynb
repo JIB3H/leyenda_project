{
 "cells": [
  {
   "attachments": {
    "logo.jpg": {
     "image/jpeg": "[encoded data removed]"
    }
   },
   "cell_type": "markdown",
   "metadata": {},
   "source": [
    "![logo.jpg](attachment:logo.jpg)\n",
    "\n",
    "<h1 align='center'>Projet Leyenda - Livrable 2 - Traitement d'images</h1>\n",
    "<h3 align='center'>Youssef AYARI, Matthieu DECLERCQ, Thomas PETAIN, Julien BARON, Jean-Baptiste CASTELLANI</h1>"
   ]
  },
  {
   "cell_type": "markdown",
   "metadata": {},
   "source": [
    "## Sommaire"
   ]
  },
  {
   "cell_type": "markdown",
   "metadata": {},
   "source": [
    "* [Introduction](#chapter1)\n",
    "* [1. Contraintes](#chapiter2)\n",
    "* [2. Configuration de l'environnement](#chapter3)\n",
    "    * [2.1 Import des librairies Python](#section_3_1)\n",
    "    * [2.2 Utilisation du GPU](#section_3_2)\n",
    "* [3. Préparation du dataset](#chapter4)\n",
    "    * [3.1 Création d'un jeu d'entraînement et de test](#section_3_1)\n",
    "    * [3.2 Bruitage du jeu de données](#section_3_2)\n",
    "    * [3.3 Augmentation des performances du dataset](#section_3_3)"
   ]
  },
  {
   "cell_type": "markdown",
   "metadata": {},
   "source": [
    "## Introduction <a class=\"anchor\" id=\"chapter1\"></a>"
   ]
  },
  {
   "cell_type": "markdown",
   "metadata": {},
   "source": [
    "<div style=\"text-align: justify\">Dans le cadre de ce projet, l'entreprise TouNum, spécialisée dans la numérisation de documents, souhaite étendre leur gamme de services pour inclure des outils de Machine Learning. En effet, leur clientèle possède une grande quantité de données à numériser au format papier. Dans le but de rester compétitif dans ce secteur d’activité, l’entreprise décide d’innover et de proposer un service de catégorisation qui serait plus que valorisable. Afin de mener à bien cette tâche, des spécialistes en Data Science du CESI ont été contactés.\n",
    "<p><br>\n",
    "    \n",
    "<div style=\"text-align: justify\">Dans la partie précedente nous avons classifié les photos et les autres images par le biais d'un CNN. Dans ce notebook nous abroderons le débruitage des photos afin de faciliter leur traitement par les algorithmes de machine Learning</div>"
   ]
  },
  {
   "cell_type": "markdown",
   "metadata": {},
   "source": [
    "## 1. Contraintes <a class=\"anchor\" id=\"chapter2\"></a>"
   ]
  },
  {
   "cell_type": "markdown",
   "metadata": {},
   "source": [
    "<div style=\"text-align: justify\">Dans le but d'opérer une opération de débruitage nous devons réfléchir à une méthode qui nous permettra de réduire la dimension de notre image. En effet, lorsque nous traitons des images nous avons beaucoup de caractéristiques en entrée. Prenons une image 28 x 28 pixel, dans ce cas nous aurons 784 inputs dans notre réseau de neurones. Avec autant de dimension ce qui rend le traitement et l'analyse compliqué.</div><br>\n",
    "\n",
    "<div style=\"text-align: justify\">Nous connaissons des méthodes permettant de réduire les dimensions de notre image. Nous pouvons citer dans un premier temps l'ACP ( Analyse en Composantes Principale). Néanmoins cette solution ne nous satisfait pas car les relations entre les caractéristiques et les points de données dans un espace à haute dimension présentent une relation non linéaire.</div><br>\n",
    "\n",
    "<div style=\"text-align: justify\">Dans ce cas de figure nous pouvons alors nous tourner vers le TSNE. Néanmoins, cet algorithme bien que très efficace ne convainc pas du fait qu'il reste très gourmand en ressources. Par conséquent nous nous devons trouver un algorithme qui nous permet de garder une approche non linéaire tout en conservant des performances acceptables.</div><br>\n"
   ]
  },
  {
   "cell_type": "markdown",
   "metadata": {},
   "source": [
    "## 2. Configuration de l'environnement <a class=\"anchor\" id=\"chapter3\"></a>"
   ]
  },
  {
   "cell_type": "markdown",
   "metadata": {},
   "source": [
    "Tout comme dans le premier livrable nous nous devons de préparer notre environnement de travail pour mener à bien notre projet. Par conséquent nous reviendrons sur les mêmes points qui ont été aborder précédemment qui sont : l'import des librairies Python et l'utilisattion du GPU. "
   ]
  },
  {
   "cell_type": "markdown",
   "metadata": {},
   "source": [
    "### 2.1 Import des librairies Python <a class=\"anchor\" id=\"section_3_1\"></a>"
   ]
  },
  {
   "cell_type": "markdown",
   "metadata": {},
   "source": [
    "Dans le cadre de ce premier livrable, nous avons décidé d’importer plusieurs librairies Python que nous allons présenter :\n",
    "<ul>\n",
    "    <li style=\"text-align: justify\"><strong>TensorFlow</strong> : est un outil open source d'apprentissage automatique développé par Google. Il est l'un des outils les plus utilisés en IA dans le domaine de l'apprentissage machine. Celui-ci contient de nombreuses implémentations de blocs nécessaire à la construction de réseaux de neurones couramment utilisés tels que des couches, des fonctions d'activation, des optimiseurs et une multitude d'outils pour faciliter le travail avec des images ou des textes afin de simplifier le codage nécessaire à l'écriture de code de réseau de neurones profond. <strong>Keras</strong> est l’API haut niveau s’exécutant sur la plateforme d’apprentissage automatique Tensorflow. Elle permet de faciliter la création et l’entraînement des modèles de deep learning.</li><br>\n",
    "</ul>"
   ]
  },
  {
   "cell_type": "code",
   "execution_count": 7,
   "metadata": {},
   "outputs": [],
   "source": [
    "import tensorflow as tf\n",
    "import matplotlib.pyplot as plt\n",
    "import os\n",
    "import numpy as np\n",
    "\n",
    "# from skimage.util import random_noise\n",
    "# from PIL import Image\n",
    "# from tensorflow.keras.preprocessing import image"
   ]
  },
  {
   "cell_type": "markdown",
   "metadata": {},
   "source": [
    "### 2.2 Utilisation du GPU <a class=\"anchor\" id=\"section_2_1\"></a>"
   ]
  },
  {
   "cell_type": "markdown",
   "metadata": {},
   "source": [
    "<div style=\"text-align: justify\">Dans l'optique d’avoir de meilleures performances tout au long de ce projet notamment durant l’entraînement du modèle, nous avons décidé de faire passer le traitement des données par le GPU. Pour ce faire, la ligne ci-dessous nous indique si le système détecte un GPU qui peut être utilisé. (Seules les cartes Nvdia avec Cuda installé sont reconnues par Tensorflow).<div>"
   ]
  },
  {
   "cell_type": "code",
   "execution_count": 8,
   "metadata": {},
   "outputs": [
    {
     "data": {
      "text/plain": [
       "[PhysicalDevice(name='/physical_device:CPU:0', device_type='CPU'),\n",
       " PhysicalDevice(name='/physical_device:GPU:0', device_type='GPU')]"
      ]
     },
     "execution_count": 8,
     "metadata": {},
     "output_type": "execute_result"
    }
   ],
   "source": [
    "tf.config.list_physical_devices()"
   ]
  },
  {
   "cell_type": "markdown",
   "metadata": {},
   "source": [
    "## 3. Préparation du dataset <a class=\"anchor\" id=\"chapter4\"></a>"
   ]
  },
  {
   "cell_type": "markdown",
   "metadata": {},
   "source": [
    "<div style=\"text-align: justify\"> Nous avons vu comment dans le premier livrable comment préparer notre jeux de données pour les algorithme de deep learning. Néanmoins, nous devrons rajouter intentionellement du bruit sur nos images dans le but de pouvoir entrainer nos modèles dans les meilleures conditons.<\\div>"
   ]
  },
  {
   "cell_type": "code",
   "execution_count": 9,
   "metadata": {},
   "outputs": [],
   "source": [
    "data_dir = \"D:\\exia\\A5 2021-2022\\Option_DataScience\\Data\"\n",
    "\n",
    "image_h = 28\n",
    "image_w = 28\n",
    "batch_s = 32"
   ]
  },
  {
   "cell_type": "markdown",
   "metadata": {},
   "source": [
    "### 3.1 Création des jeux d'entrainement et de test <a class=\"anchor\" id=\"section_4_1\"></a>"
   ]
  },
  {
   "cell_type": "markdown",
   "metadata": {},
   "source": [
    "<div style=\"text-align: justify\">Pour préparer le jeu de données, nous le séparons en deux sous-ensembles homogènes afin d'éviter la sous-représentation de classe. Le premier sous-ensemble dit d'entraînement permettra au modèle d'ajuster ses poids et par conséquent améliorer sa classification. Le second nous permet d'évaluer la classification du modèle. C'est sur ce jeu de données qu'on se base pour le calcul de la précision du modèle.<div>   "
   ]
  },
  {
   "cell_type": "code",
   "execution_count": 10,
   "metadata": {},
   "outputs": [
    {
     "name": "stdout",
     "output_type": "stream",
     "text": [
      "Found 10000 files belonging to 1 classes.\n",
      "Using 8000 files for training.\n",
      "Found 10000 files belonging to 1 classes.\n",
      "Using 2000 files for validation.\n"
     ]
    }
   ],
   "source": [
    "# Le train_set\n",
    "train_set = tf.keras.preprocessing.image_dataset_from_directory(\n",
    "  data_dir,\n",
    "  labels='inferred',\n",
    "  validation_split=0.2,\n",
    "  subset =\"training\",\n",
    "  seed=42,\n",
    "  image_size=(image_h, image_w),\n",
    "  batch_size=batch_s\n",
    ")\n",
    "\n",
    "# Le test_set\n",
    "test_set = tf.keras.preprocessing.image_dataset_from_directory(\n",
    "  data_dir,\n",
    "  labels='inferred',\n",
    "  validation_split=0.2,\n",
    "  subset =\"validation\",\n",
    "  seed=42,\n",
    "  image_size=(image_h, image_w),\n",
    "  batch_size=batch_s\n",
    ")"
   ]
  },
  {
   "cell_type": "markdown",
   "metadata": {},
   "source": [
    "### 3.2 Bruitage du jeu de données <a class=\"anchor\" id=\"section_4_2\"></a>"
   ]
  },
  {
   "cell_type": "markdown",
   "metadata": {},
   "source": [
    "<div style=\"text-align: justify\">Notre dataset ne contenant pas d'image bruitée, nous devons par conséquent ajouter un bruit gaussien aléatoire sur chaque image. Pour ce faire nous générons aléatoirement un entier que nous multiplions par un facteur et additionnons à notre image.</div>"
   ]
  },
  {
   "cell_type": "code",
   "execution_count": 26,
   "metadata": {},
   "outputs": [],
   "source": [
    "def noise_it(data, noise_factor = 0.2):\n",
    "    data = data.astype('float32') / 255.0\n",
    "    data = np.reshape(data, (len(data), 28, 28, 3))\n",
    "    data_noisy = data + noise_factor * tf.random.normal(shape = data.shape)\n",
    "    data_noisy = np.clip(data_noisy, 0., 1.)\n",
    "    return data_noisy\n",
    "    \n",
    "x_train = np.concatenate([x for x, y in train_set], axis = 0)\n",
    "x_test = np.concatenate([x for x, y in test_set], axis = 0)\n",
    "\n",
    "x_train_noisy = noise_it(x_train)\n",
    "x_test_noisy = noise_it(x_test)\n"
   ]
  },
  {
   "cell_type": "markdown",
   "metadata": {},
   "source": [
    "Nous pouvons voir ci-dessous que les images issus de notre dataset on bien été bruité."
   ]
  },
  {
   "cell_type": "code",
   "execution_count": 27,
   "metadata": {},
   "outputs": [
    {
     "data": {
      "image/png": "[encoded data removed]",
      "text/plain": [
       "<Figure size 1440x1440 with 5 Axes>"
      ]
     },
     "metadata": {
      "needs_background": "light"
     },
     "output_type": "display_data"
    }
   ],
   "source": [
    "def display_image(X, n):\n",
    "    plt.figure(figsize=(20, 20))\n",
    "    for i in range(n):\n",
    "        ax = plt.subplot(1, n, i+1)\n",
    "        plt.imshow(X[i])\n",
    "        ax.get_xaxis().set_visible(False)\n",
    "        ax.get_yaxis().set_visible(False)\n",
    "    plt.show()\n",
    "\n",
    "display_image(x_train_noisy, 5)"
   ]
  },
  {
   "cell_type": "markdown",
   "metadata": {},
   "source": [
    "### 3.3 Augmentation des performances du dataset <a class=\"anchor\" id=\"section_4_3\"></a>"
   ]
  },
  {
   "cell_type": "markdown",
   "metadata": {},
   "source": [
    "Afin d'améliorer les performances du dataset nous pouvons mettre en place différentes méthodes :\n",
    "- `Dataset.cache()`: <div style=\"text-align: justify\">Cette fonction nous permettra de garder les données dans la mémoire cache. En effet, notre modèle doit repasser plusieurs fois sur les données d'entraînement à chaque epoch. De cette façon, le rechargement des données est grandement réduit entre chaque epoch.</div><br>\n",
    "- `Dataset.prefetch()`: <div style=\"text-align: justify\">Nous permet de paralléliser le traitement des batchs par le modèle. Pour ce faire, lors de l'entraînement/évaluation du batch en cours nous commençons le prétraitement du batch suivant.</div>   "
   ]
  },
  {
   "cell_type": "code",
   "execution_count": 29,
   "metadata": {},
   "outputs": [],
   "source": [
    "AUTOTUNE = tf.data.experimental.AUTOTUNE\n",
    "\n",
    "x_train_noisy = train_set.cache().shuffle(1000).prefetch(buffer_size=AUTOTUNE)\n",
    "x_test_noisy = test_set.cache().prefetch(buffer_size=AUTOTUNE)"
   ]
  },
  {
   "cell_type": "markdown",
   "metadata": {},
   "source": [
    "## 4 Création du modèle <a class=\"anchor\" id=\"chapiter4\"></a>"
   ]
  },
  {
   "cell_type": "markdown",
   "metadata": {},
   "source": []
  },
  {
   "cell_type": "code",
   "execution_count": null,
   "metadata": {},
   "outputs": [],
   "source": [
    "# def create_dir():\n",
    "#     bruit_dir = \"D:\\exia\\A5 2021-2022\\Option_DataScience\\Bruit\"\n",
    "#     if not os.path.exists(bruit_dir):\n",
    "#         print('test')\n",
    "#         os.mkdir(bruit_dir)\n",
    "#         dir_create = map(lambda x : os.path.join(bruit_dir,x), ['Bruit', 'Clean'])\n",
    "#         [os.mkdir(x) for x in dir_create]\n",
    "#     return list(map(lambda x: bruit_dir + '\\\\'+ x ,os.listdir(bruit_dir)))\n",
    "\n",
    "# def noise_it(list_dir, path_dataset):\n",
    "#     all_files = [os.path.join(path_dataset, x) for x in os.listdir(path_dataset)]\n",
    "#     for index, photo in enumerate(all_files):\n",
    "#         img = image.load_img(photo, target_size=(28, 28))\n",
    "#         array_img = image.img_to_array(img)\n",
    "# #         array_img = random_noise(array_img, mode='gaussian', mean=0, var=0.3)\n",
    "# #         array_img = random_noise(array_img, mode='s&p',      amount=0.2, salt_vs_pepper=0.5)\n",
    "# #         array_img = random_noise(array_img, mode='poisson') \n",
    "# #         array_img = random_noise(array_img, mode='speckle',  mean=0, var=0.1)\n",
    "# #         array_img = Image.fromarray(array_img.astype('uint8'), 'RGB')\n",
    "#         img.save(str(list_dir[1]) + \"\\\\\"+ photo.split('\\\\')[-1])\n",
    "#         array_img.save(str(list_dir[0]) + \"\\\\noisy_\"+ photo.split('\\\\')[-1])\n",
    "# list_dir = create_dir()\n",
    "# noise_it(list_dir, r\"D:\\exia\\A5 2021-2022\\Option_DataScience\\Datasets\\Photo\")"
   ]
  }
 ],
 "metadata": {
  "kernelspec": {
   "display_name": "gputest",
   "language": "python",
   "name": "gputest"
  },
  "language_info": {
   "codemirror_mode": {
    "name": "ipython",
    "version": 3
   },
   "file_extension": ".py",
   "mimetype": "text/x-python",
   "name": "python",
   "nbconvert_exporter": "python",
   "pygments_lexer": "ipython3",
   "version": "3.7.11"
  }
 },
 "nbformat": 4,
 "nbformat_minor": 4
}
