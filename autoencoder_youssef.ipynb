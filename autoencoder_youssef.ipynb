{
 "cells": [
  {
   "cell_type": "markdown",
   "source": [
    "## Import TensorFlow and other libraries"
   ],
   "metadata": {
    "id": "e1_Y75QXJS6h"
   }
  },
  {
   "cell_type": "code",
   "execution_count": 21,
   "source": [
    "import matplotlib.pyplot as plt\r\n",
    "import numpy as np\r\n",
    "import pandas as pd\r\n",
    "import tensorflow as tf\r\n",
    "import pathlib\r\n",
    "from sklearn.metrics import accuracy_score, precision_score, recall_score\r\n",
    "from sklearn.model_selection import train_test_split\r\n",
    "from tensorflow.keras import layers, losses\r\n",
    "from tensorflow.keras.datasets import fashion_mnist\r\n",
    "from tensorflow.keras.models import Model"
   ],
   "outputs": [],
   "metadata": {
    "execution": {
     "iopub.execute_input": "2021-06-16T17:50:24.594436Z",
     "iopub.status.busy": "2021-06-16T17:50:24.593898Z",
     "iopub.status.idle": "2021-06-16T17:50:26.623018Z",
     "shell.execute_reply": "2021-06-16T17:50:26.623386Z"
    },
    "id": "YfIk2es3hJEd"
   }
  },
  {
   "cell_type": "code",
   "execution_count": 22,
   "source": [
    "data_dir = pathlib.Path(\"Photo\")\r\n",
    "image_h = 180\r\n",
    "image_w = 180\r\n",
    "batch_s = 32"
   ],
   "outputs": [],
   "metadata": {}
  },
  {
   "cell_type": "code",
   "execution_count": 23,
   "source": [
    "train_set = tf.keras.preprocessing.image_dataset_from_directory(\r\n",
    "  data_dir,\r\n",
    "  labels='inferred',\r\n",
    "  validation_split=0.2,\r\n",
    "  subset =\"training\",\r\n",
    "  seed=42,\r\n",
    "  image_size=(image_h, image_w),\r\n",
    "  batch_size=batch_s,\r\n",
    "  label_mode = \"binary\"\r\n",
    ")\r\n",
    "# Le test_set\r\n",
    "test_set = tf.keras.preprocessing.image_dataset_from_directory(\r\n",
    "  data_dir,\r\n",
    "  labels='inferred',\r\n",
    "  validation_split=0.2,\r\n",
    "  subset =\"validation\",\r\n",
    "  seed=42,\r\n",
    "  image_size=(image_h, image_w),\r\n",
    "  batch_size=batch_s,\r\n",
    "  label_mode = \"binary\"\r\n",
    ")"
   ],
   "outputs": [
    {
     "output_type": "stream",
     "name": "stdout",
     "text": [
      "Found 0 files belonging to 0 classes.\n"
     ]
    },
    {
     "output_type": "error",
     "ename": "ValueError",
     "evalue": "When passing `label_mode=\"binary\", there must exactly 2 classes. Found the following classes: []",
     "traceback": [
      "\u001b[1;31m---------------------------------------------------------------------------\u001b[0m",
      "\u001b[1;31mValueError\u001b[0m                                Traceback (most recent call last)",
      "\u001b[1;32mC:\\Users\\YOUSSE~1\\AppData\\Local\\Temp/ipykernel_7072/4163585029.py\u001b[0m in \u001b[0;36m<module>\u001b[1;34m\u001b[0m\n\u001b[1;32m----> 1\u001b[1;33m train_set = tf.keras.preprocessing.image_dataset_from_directory(\n\u001b[0m\u001b[0;32m      2\u001b[0m   \u001b[0mdata_dir\u001b[0m\u001b[1;33m,\u001b[0m\u001b[1;33m\u001b[0m\u001b[1;33m\u001b[0m\u001b[0m\n\u001b[0;32m      3\u001b[0m   \u001b[0mlabels\u001b[0m\u001b[1;33m=\u001b[0m\u001b[1;34m'inferred'\u001b[0m\u001b[1;33m,\u001b[0m\u001b[1;33m\u001b[0m\u001b[1;33m\u001b[0m\u001b[0m\n\u001b[0;32m      4\u001b[0m   \u001b[0mvalidation_split\u001b[0m\u001b[1;33m=\u001b[0m\u001b[1;36m0.2\u001b[0m\u001b[1;33m,\u001b[0m\u001b[1;33m\u001b[0m\u001b[1;33m\u001b[0m\u001b[0m\n\u001b[0;32m      5\u001b[0m   \u001b[0msubset\u001b[0m \u001b[1;33m=\u001b[0m\u001b[1;34m\"training\"\u001b[0m\u001b[1;33m,\u001b[0m\u001b[1;33m\u001b[0m\u001b[1;33m\u001b[0m\u001b[0m\n",
      "\u001b[1;32mC:\\Python\\Python39\\lib\\site-packages\\keras\\preprocessing\\image_dataset.py\u001b[0m in \u001b[0;36mimage_dataset_from_directory\u001b[1;34m(directory, labels, label_mode, class_names, color_mode, batch_size, image_size, shuffle, seed, validation_split, subset, interpolation, follow_links, crop_to_aspect_ratio, **kwargs)\u001b[0m\n\u001b[0;32m    198\u001b[0m \u001b[1;33m\u001b[0m\u001b[0m\n\u001b[0;32m    199\u001b[0m   \u001b[1;32mif\u001b[0m \u001b[0mlabel_mode\u001b[0m \u001b[1;33m==\u001b[0m \u001b[1;34m'binary'\u001b[0m \u001b[1;32mand\u001b[0m \u001b[0mlen\u001b[0m\u001b[1;33m(\u001b[0m\u001b[0mclass_names\u001b[0m\u001b[1;33m)\u001b[0m \u001b[1;33m!=\u001b[0m \u001b[1;36m2\u001b[0m\u001b[1;33m:\u001b[0m\u001b[1;33m\u001b[0m\u001b[1;33m\u001b[0m\u001b[0m\n\u001b[1;32m--> 200\u001b[1;33m     raise ValueError(\n\u001b[0m\u001b[0;32m    201\u001b[0m         \u001b[1;34m'When passing `label_mode=\"binary\", there must exactly 2 classes. '\u001b[0m\u001b[1;33m\u001b[0m\u001b[1;33m\u001b[0m\u001b[0m\n\u001b[0;32m    202\u001b[0m         'Found the following classes: %s' % (class_names,))\n",
      "\u001b[1;31mValueError\u001b[0m: When passing `label_mode=\"binary\", there must exactly 2 classes. Found the following classes: []"
     ]
    }
   ],
   "metadata": {}
  },
  {
   "cell_type": "code",
   "execution_count": null,
   "source": [],
   "outputs": [],
   "metadata": {}
  },
  {
   "cell_type": "code",
   "execution_count": 2,
   "source": [
    "(x_train, _), (x_test, _) = fashion_mnist.load_data()\r\n",
    "\r\n",
    "x_train = x_train.astype('float32') / 255.\r\n",
    "x_test = x_test.astype('float32') / 255.\r\n",
    "\r\n",
    "print (x_train.shape)\r\n",
    "print (x_test.shape)"
   ],
   "outputs": [
    {
     "output_type": "stream",
     "name": "stdout",
     "text": [
      "(60000, 28, 28)\n",
      "(10000, 28, 28)\n"
     ]
    }
   ],
   "metadata": {
    "execution": {
     "iopub.execute_input": "2021-06-16T17:50:26.627758Z",
     "iopub.status.busy": "2021-06-16T17:50:26.627193Z",
     "iopub.status.idle": "2021-06-16T17:50:27.102523Z",
     "shell.execute_reply": "2021-06-16T17:50:27.102899Z"
    },
    "id": "YZm503-I_tji"
   }
  },
  {
   "cell_type": "markdown",
   "source": [
    "## First example: Basic autoencoder\n"
   ],
   "metadata": {
    "id": "VEdCXSwCoKok"
   }
  },
  {
   "cell_type": "code",
   "execution_count": 3,
   "source": [
    "latent_dim = 64 \r\n",
    "\r\n",
    "class Autoencoder(Model):\r\n",
    "  def __init__(self, latent_dim):\r\n",
    "    super(Autoencoder, self).__init__()\r\n",
    "    self.latent_dim = latent_dim   \r\n",
    "    self.encoder = tf.keras.Sequential([\r\n",
    "      layers.Flatten(),\r\n",
    "      layers.Dense(latent_dim, activation='relu'),\r\n",
    "    ])\r\n",
    "    self.decoder = tf.keras.Sequential([\r\n",
    "      layers.Dense(784, activation='sigmoid'),\r\n",
    "      layers.Reshape((28, 28))\r\n",
    "    ])\r\n",
    "\r\n",
    "  def call(self, x):\r\n",
    "    encoded = self.encoder(x)\r\n",
    "    decoded = self.decoder(encoded)\r\n",
    "    return decoded\r\n",
    "  \r\n",
    "autoencoder = Autoencoder(latent_dim) "
   ],
   "outputs": [],
   "metadata": {
    "execution": {
     "iopub.execute_input": "2021-06-16T17:50:27.109742Z",
     "iopub.status.busy": "2021-06-16T17:50:27.107967Z",
     "iopub.status.idle": "2021-06-16T17:50:28.617869Z",
     "shell.execute_reply": "2021-06-16T17:50:28.618260Z"
    },
    "id": "0MUxidpyChjX"
   }
  },
  {
   "cell_type": "code",
   "execution_count": 4,
   "source": [
    "autoencoder.compile(optimizer='adam', loss=losses.MeanSquaredError())"
   ],
   "outputs": [],
   "metadata": {
    "execution": {
     "iopub.execute_input": "2021-06-16T17:50:28.624857Z",
     "iopub.status.busy": "2021-06-16T17:50:28.624236Z",
     "iopub.status.idle": "2021-06-16T17:50:28.629345Z",
     "shell.execute_reply": "2021-06-16T17:50:28.629681Z"
    },
    "id": "9I1JlqEIDCI4"
   }
  },
  {
   "cell_type": "markdown",
   "source": [
    "Train the model using `x_train` as both the input and the target. The `encoder` will learn to compress the dataset from 784 dimensions to the latent space, and the `decoder` will learn to reconstruct the original images.\r\n",
    "."
   ],
   "metadata": {
    "id": "7oJSeMTroABs"
   }
  },
  {
   "cell_type": "code",
   "execution_count": 5,
   "source": [
    "autoencoder.fit(x_train, x_train,\r\n",
    "                epochs=10,\r\n",
    "                shuffle=True,\r\n",
    "                validation_data=(x_test, x_test))"
   ],
   "outputs": [
    {
     "output_type": "stream",
     "name": "stdout",
     "text": [
      "Epoch 1/10\n",
      "1875/1875 [==============================] - 9s 3ms/step - loss: 0.0239 - val_loss: 0.0131\n",
      "Epoch 2/10\n",
      "1875/1875 [==============================] - 4s 2ms/step - loss: 0.0116 - val_loss: 0.0108\n",
      "Epoch 3/10\n",
      "1875/1875 [==============================] - 4s 2ms/step - loss: 0.0101 - val_loss: 0.0098\n",
      "Epoch 4/10\n",
      "1875/1875 [==============================] - 4s 2ms/step - loss: 0.0095 - val_loss: 0.0095\n",
      "Epoch 5/10\n",
      "1875/1875 [==============================] - 4s 2ms/step - loss: 0.0093 - val_loss: 0.0092\n",
      "Epoch 6/10\n",
      "1875/1875 [==============================] - 4s 2ms/step - loss: 0.0091 - val_loss: 0.0091\n",
      "Epoch 7/10\n",
      "1875/1875 [==============================] - 4s 2ms/step - loss: 0.0090 - val_loss: 0.0091\n",
      "Epoch 8/10\n",
      "1875/1875 [==============================] - 4s 2ms/step - loss: 0.0089 - val_loss: 0.0090\n",
      "Epoch 9/10\n",
      "1875/1875 [==============================] - 4s 2ms/step - loss: 0.0088 - val_loss: 0.0090\n",
      "Epoch 10/10\n",
      "1875/1875 [==============================] - 4s 2ms/step - loss: 0.0088 - val_loss: 0.0089\n"
     ]
    },
    {
     "output_type": "execute_result",
     "data": {
      "text/plain": [
       "<keras.callbacks.History at 0x2050bc27d30>"
      ]
     },
     "metadata": {},
     "execution_count": 5
    }
   ],
   "metadata": {
    "execution": {
     "iopub.execute_input": "2021-06-16T17:50:28.633949Z",
     "iopub.status.busy": "2021-06-16T17:50:28.633349Z",
     "iopub.status.idle": "2021-06-16T17:50:54.344971Z",
     "shell.execute_reply": "2021-06-16T17:50:54.345350Z"
    },
    "id": "h1RI9OfHDBsK"
   }
  },
  {
   "cell_type": "markdown",
   "source": [
    "let's test it by encoding and decoding images from the test set."
   ],
   "metadata": {
    "id": "wAM1QBhtoC-n"
   }
  },
  {
   "cell_type": "code",
   "execution_count": 6,
   "source": [
    "encoded_imgs = autoencoder.encoder(x_test).numpy()\r\n",
    "decoded_imgs = autoencoder.decoder(encoded_imgs).numpy()"
   ],
   "outputs": [],
   "metadata": {
    "execution": {
     "iopub.execute_input": "2021-06-16T17:50:54.366483Z",
     "iopub.status.busy": "2021-06-16T17:50:54.365930Z",
     "iopub.status.idle": "2021-06-16T17:50:54.413138Z",
     "shell.execute_reply": "2021-06-16T17:50:54.413496Z"
    },
    "id": "Pbr5WCj7FQUi"
   }
  },
  {
   "cell_type": "code",
   "execution_count": 7,
   "source": [
    "n = 10\r\n",
    "plt.figure(figsize=(20, 4))\r\n",
    "for i in range(n):\r\n",
    "  # display original\r\n",
    "  ax = plt.subplot(2, n, i + 1)\r\n",
    "  plt.imshow(x_test[i])\r\n",
    "  plt.title(\"original\")\r\n",
    "  plt.gray()\r\n",
    "  ax.get_xaxis().set_visible(False)\r\n",
    "  ax.get_yaxis().set_visible(False)\r\n",
    "\r\n",
    "  # display reconstruction\r\n",
    "  ax = plt.subplot(2, n, i + 1 + n)\r\n",
    "  plt.imshow(decoded_imgs[i])\r\n",
    "  plt.title(\"reconstructed\")\r\n",
    "  plt.gray()\r\n",
    "  ax.get_xaxis().set_visible(False)\r\n",
    "  ax.get_yaxis().set_visible(False)\r\n",
    "plt.show()"
   ],
   "outputs": [
    {
     "output_type": "display_data",
     "data": {
      "image/png": "[encoded data removed]",
      "text/plain": [
       "<Figure size 1440x288 with 20 Axes>"
      ]
     },
     "metadata": {
      "needs_background": "light"
     }
    }
   ],
   "metadata": {
    "execution": {
     "iopub.execute_input": "2021-06-16T17:50:54.429628Z",
     "iopub.status.busy": "2021-06-16T17:50:54.429074Z",
     "iopub.status.idle": "2021-06-16T17:50:55.183097Z",
     "shell.execute_reply": "2021-06-16T17:50:55.183495Z"
    },
    "id": "s4LlDOS6FUA1"
   }
  },
  {
   "cell_type": "markdown",
   "source": [
    "## Second example: Image denoising\n"
   ],
   "metadata": {
    "id": "r4gv6G8PoRQE"
   }
  },
  {
   "cell_type": "code",
   "execution_count": 8,
   "source": [
    "(x_train, _), (x_test, _) = fashion_mnist.load_data()"
   ],
   "outputs": [],
   "metadata": {
    "execution": {
     "iopub.execute_input": "2021-06-16T17:50:55.187514Z",
     "iopub.status.busy": "2021-06-16T17:50:55.186939Z",
     "iopub.status.idle": "2021-06-16T17:50:55.552515Z",
     "shell.execute_reply": "2021-06-16T17:50:55.551999Z"
    },
    "id": "gDYHJA2PCQ3m"
   }
  },
  {
   "cell_type": "code",
   "execution_count": 9,
   "source": [
    "x_train = x_train.astype('float32') / 255.\r\n",
    "x_test = x_test.astype('float32') / 255.\r\n",
    "\r\n",
    "x_train = x_train[..., tf.newaxis]\r\n",
    "x_test = x_test[..., tf.newaxis]\r\n",
    "\r\n",
    "print(x_train.shape)"
   ],
   "outputs": [
    {
     "output_type": "stream",
     "name": "stdout",
     "text": [
      "(60000, 28, 28, 1)\n"
     ]
    }
   ],
   "metadata": {
    "execution": {
     "iopub.execute_input": "2021-06-16T17:50:55.556576Z",
     "iopub.status.busy": "2021-06-16T17:50:55.556005Z",
     "iopub.status.idle": "2021-06-16T17:50:55.630931Z",
     "shell.execute_reply": "2021-06-16T17:50:55.631279Z"
    },
    "id": "uJZ-TcaqDBr5"
   }
  },
  {
   "cell_type": "markdown",
   "source": [
    "Adding random noise to the images"
   ],
   "metadata": {
    "id": "aPZl_6P65_8R"
   }
  },
  {
   "cell_type": "code",
   "execution_count": 10,
   "source": [
    "noise_factor = 0.2\r\n",
    "x_train_noisy = x_train + noise_factor * tf.random.normal(shape=x_train.shape) \r\n",
    "x_test_noisy = x_test + noise_factor * tf.random.normal(shape=x_test.shape) \r\n",
    "\r\n",
    "x_train_noisy = tf.clip_by_value(x_train_noisy, clip_value_min=0., clip_value_max=1.)\r\n",
    "x_test_noisy = tf.clip_by_value(x_test_noisy, clip_value_min=0., clip_value_max=1.)"
   ],
   "outputs": [],
   "metadata": {
    "execution": {
     "iopub.execute_input": "2021-06-16T17:50:55.635781Z",
     "iopub.status.busy": "2021-06-16T17:50:55.635190Z",
     "iopub.status.idle": "2021-06-16T17:50:55.843572Z",
     "shell.execute_reply": "2021-06-16T17:50:55.843949Z"
    },
    "id": "axSMyxC354fc"
   }
  },
  {
   "cell_type": "markdown",
   "source": [
    "Plot the noisy images.\n"
   ],
   "metadata": {
    "id": "wRxHe4XXltNd"
   }
  },
  {
   "cell_type": "code",
   "execution_count": 11,
   "source": [
    "n = 10\r\n",
    "plt.figure(figsize=(20, 2))\r\n",
    "for i in range(n):\r\n",
    "    ax = plt.subplot(1, n, i + 1)\r\n",
    "    plt.title(\"original + noise\")\r\n",
    "    plt.imshow(tf.squeeze(x_test_noisy[i]))\r\n",
    "    plt.gray()\r\n",
    "plt.show()"
   ],
   "outputs": [
    {
     "output_type": "display_data",
     "data": {
      "image/png": "[encoded data removed]",
      "text/plain": [
       "<Figure size 1440x144 with 10 Axes>"
      ]
     },
     "metadata": {
      "needs_background": "light"
     }
    }
   ],
   "metadata": {
    "execution": {
     "iopub.execute_input": "2021-06-16T17:50:55.863811Z",
     "iopub.status.busy": "2021-06-16T17:50:55.863206Z",
     "iopub.status.idle": "2021-06-16T17:50:56.417576Z",
     "shell.execute_reply": "2021-06-16T17:50:56.417910Z"
    },
    "id": "thKUmbVVCQpt"
   }
  },
  {
   "cell_type": "markdown",
   "source": [
    "### The convolutional autoencoder"
   ],
   "metadata": {
    "id": "Sy9SY8jGl5aP"
   }
  },
  {
   "cell_type": "code",
   "execution_count": 12,
   "source": [
    "class Denoise(Model):\r\n",
    "  def __init__(self):\r\n",
    "    super(Denoise, self).__init__()\r\n",
    "    self.encoder = tf.keras.Sequential([\r\n",
    "      layers.Input(shape=(28, 28, 1)),\r\n",
    "      layers.Conv2D(16, (3, 3), activation='relu', padding='same', strides=2),\r\n",
    "      layers.Conv2D(8, (3, 3), activation='relu', padding='same', strides=2)])\r\n",
    "\r\n",
    "    self.decoder = tf.keras.Sequential([\r\n",
    "      layers.Conv2DTranspose(8, kernel_size=3, strides=2, activation='relu', padding='same'),\r\n",
    "      layers.Conv2DTranspose(16, kernel_size=3, strides=2, activation='relu', padding='same'),\r\n",
    "      layers.Conv2D(1, kernel_size=(3, 3), activation='sigmoid', padding='same')])\r\n",
    "\r\n",
    "  def call(self, x):\r\n",
    "    encoded = self.encoder(x)\r\n",
    "    decoded = self.decoder(encoded)\r\n",
    "    return decoded\r\n",
    "\r\n",
    "autoencoder = Denoise()"
   ],
   "outputs": [],
   "metadata": {
    "execution": {
     "iopub.execute_input": "2021-06-16T17:50:56.425430Z",
     "iopub.status.busy": "2021-06-16T17:50:56.424857Z",
     "iopub.status.idle": "2021-06-16T17:50:56.448509Z",
     "shell.execute_reply": "2021-06-16T17:50:56.448845Z"
    },
    "id": "R5KjoIlYCQko"
   }
  },
  {
   "cell_type": "code",
   "execution_count": 13,
   "source": [
    "autoencoder.compile(optimizer='adam', loss=losses.MeanSquaredError())"
   ],
   "outputs": [],
   "metadata": {
    "execution": {
     "iopub.execute_input": "2021-06-16T17:50:56.453903Z",
     "iopub.status.busy": "2021-06-16T17:50:56.453352Z",
     "iopub.status.idle": "2021-06-16T17:50:56.457058Z",
     "shell.execute_reply": "2021-06-16T17:50:56.456590Z"
    },
    "id": "QYKbiDFYCQfj"
   }
  },
  {
   "cell_type": "code",
   "execution_count": 14,
   "source": [
    "autoencoder.fit(x_train_noisy, x_train,\r\n",
    "                epochs=10,\r\n",
    "                shuffle=True,\r\n",
    "                validation_data=(x_test_noisy, x_test))"
   ],
   "outputs": [
    {
     "output_type": "stream",
     "name": "stdout",
     "text": [
      "Epoch 1/10\n",
      "1875/1875 [==============================] - 20s 6ms/step - loss: 0.0167 - val_loss: 0.0094\n",
      "Epoch 2/10\n",
      "1875/1875 [==============================] - 10s 5ms/step - loss: 0.0087 - val_loss: 0.0084\n",
      "Epoch 3/10\n",
      "1875/1875 [==============================] - 10s 5ms/step - loss: 0.0081 - val_loss: 0.0080\n",
      "Epoch 4/10\n",
      "1875/1875 [==============================] - 10s 5ms/step - loss: 0.0079 - val_loss: 0.0078\n",
      "Epoch 5/10\n",
      "1875/1875 [==============================] - 10s 5ms/step - loss: 0.0078 - val_loss: 0.0077\n",
      "Epoch 6/10\n",
      "1875/1875 [==============================] - 10s 5ms/step - loss: 0.0077 - val_loss: 0.0077\n",
      "Epoch 7/10\n",
      "1875/1875 [==============================] - 10s 5ms/step - loss: 0.0076 - val_loss: 0.0076\n",
      "Epoch 8/10\n",
      "1875/1875 [==============================] - 10s 5ms/step - loss: 0.0075 - val_loss: 0.0075\n",
      "Epoch 9/10\n",
      "1875/1875 [==============================] - 10s 5ms/step - loss: 0.0075 - val_loss: 0.0074\n",
      "Epoch 10/10\n",
      "1875/1875 [==============================] - 11s 6ms/step - loss: 0.0074 - val_loss: 0.0074\n"
     ]
    },
    {
     "output_type": "execute_result",
     "data": {
      "text/plain": [
       "<keras.callbacks.History at 0x2050eb64a90>"
      ]
     },
     "metadata": {},
     "execution_count": 14
    }
   ],
   "metadata": {
    "execution": {
     "iopub.execute_input": "2021-06-16T17:50:56.460726Z",
     "iopub.status.busy": "2021-06-16T17:50:56.460170Z",
     "iopub.status.idle": "2021-06-16T17:51:45.452372Z",
     "shell.execute_reply": "2021-06-16T17:51:45.452745Z"
    },
    "id": "IssFr1BNCQX3"
   }
  },
  {
   "cell_type": "markdown",
   "source": [
    "Let's take a look at a summary of the encoder. Notice how the images are downsampled from 28x28 to 7x7."
   ],
   "metadata": {
    "id": "G85xUVBGTAKp"
   }
  },
  {
   "cell_type": "code",
   "execution_count": 15,
   "source": [
    "autoencoder.encoder.summary()"
   ],
   "outputs": [
    {
     "output_type": "stream",
     "name": "stdout",
     "text": [
      "Model: \"sequential_2\"\n",
      "_________________________________________________________________\n",
      "Layer (type)                 Output Shape              Param #   \n",
      "=================================================================\n",
      "conv2d (Conv2D)              (None, 14, 14, 16)        160       \n",
      "_________________________________________________________________\n",
      "conv2d_1 (Conv2D)            (None, 7, 7, 8)           1160      \n",
      "=================================================================\n",
      "Total params: 1,320\n",
      "Trainable params: 1,320\n",
      "Non-trainable params: 0\n",
      "_________________________________________________________________\n"
     ]
    }
   ],
   "metadata": {
    "execution": {
     "iopub.execute_input": "2021-06-16T17:51:45.456922Z",
     "iopub.status.busy": "2021-06-16T17:51:45.456369Z",
     "iopub.status.idle": "2021-06-16T17:51:45.458965Z",
     "shell.execute_reply": "2021-06-16T17:51:45.459327Z"
    },
    "id": "oEpxlX6sTEQz"
   }
  },
  {
   "cell_type": "markdown",
   "source": [
    "The decoder upsamples the images back from 7x7 to 28x28."
   ],
   "metadata": {
    "id": "DDZBfMx1UtXx"
   }
  },
  {
   "cell_type": "code",
   "execution_count": 16,
   "source": [
    "autoencoder.decoder.summary()"
   ],
   "outputs": [
    {
     "output_type": "stream",
     "name": "stdout",
     "text": [
      "Model: \"sequential_3\"\n",
      "_________________________________________________________________\n",
      "Layer (type)                 Output Shape              Param #   \n",
      "=================================================================\n",
      "conv2d_transpose (Conv2DTran (None, 14, 14, 8)         584       \n",
      "_________________________________________________________________\n",
      "conv2d_transpose_1 (Conv2DTr (None, 28, 28, 16)        1168      \n",
      "_________________________________________________________________\n",
      "conv2d_2 (Conv2D)            (None, 28, 28, 1)         145       \n",
      "=================================================================\n",
      "Total params: 1,897\n",
      "Trainable params: 1,897\n",
      "Non-trainable params: 0\n",
      "_________________________________________________________________\n"
     ]
    }
   ],
   "metadata": {
    "execution": {
     "iopub.execute_input": "2021-06-16T17:51:45.463130Z",
     "iopub.status.busy": "2021-06-16T17:51:45.462585Z",
     "iopub.status.idle": "2021-06-16T17:51:45.465128Z",
     "shell.execute_reply": "2021-06-16T17:51:45.464731Z"
    },
    "id": "pbeQtYMaUpro"
   }
  },
  {
   "cell_type": "markdown",
   "source": [
    "Plotting both the noisy images and the denoised images produced by the autoencoder."
   ],
   "metadata": {
    "id": "A7-VAuEy_N6M"
   }
  },
  {
   "cell_type": "code",
   "execution_count": 17,
   "source": [
    "encoded_imgs = autoencoder.encoder(x_test).numpy()\r\n",
    "decoded_imgs = autoencoder.decoder(encoded_imgs).numpy()"
   ],
   "outputs": [],
   "metadata": {
    "execution": {
     "iopub.execute_input": "2021-06-16T17:51:45.486152Z",
     "iopub.status.busy": "2021-06-16T17:51:45.485592Z",
     "iopub.status.idle": "2021-06-16T17:51:45.751070Z",
     "shell.execute_reply": "2021-06-16T17:51:45.751489Z"
    },
    "id": "t5IyPi1fCQQz"
   }
  },
  {
   "cell_type": "code",
   "execution_count": 18,
   "source": [
    "n = 10\r\n",
    "plt.figure(figsize=(20, 4))\r\n",
    "for i in range(n):\r\n",
    "\r\n",
    "    # display original + noise\r\n",
    "    ax = plt.subplot(2, n, i + 1)\r\n",
    "    plt.title(\"original + noise\")\r\n",
    "    plt.imshow(tf.squeeze(x_test_noisy[i]))\r\n",
    "    plt.gray()\r\n",
    "    ax.get_xaxis().set_visible(False)\r\n",
    "    ax.get_yaxis().set_visible(False)\r\n",
    "\r\n",
    "    # display reconstruction\r\n",
    "    bx = plt.subplot(2, n, i + n + 1)\r\n",
    "    plt.title(\"reconstructed\")\r\n",
    "    plt.imshow(tf.squeeze(decoded_imgs[i]))\r\n",
    "    plt.gray()\r\n",
    "    bx.get_xaxis().set_visible(False)\r\n",
    "    bx.get_yaxis().set_visible(False)\r\n",
    "plt.show()"
   ],
   "outputs": [
    {
     "output_type": "display_data",
     "data": {
      "image/png": "[encoded data removed]",
      "text/plain": [
       "<Figure size 1440x288 with 20 Axes>"
      ]
     },
     "metadata": {
      "needs_background": "light"
     }
    }
   ],
   "metadata": {
    "execution": {
     "iopub.execute_input": "2021-06-16T17:51:45.772700Z",
     "iopub.status.busy": "2021-06-16T17:51:45.772097Z",
     "iopub.status.idle": "2021-06-16T17:51:46.554107Z",
     "shell.execute_reply": "2021-06-16T17:51:46.554490Z"
    },
    "id": "sfxr9NdBCP_x"
   }
  }
 ],
 "metadata": {
  "accelerator": "GPU",
  "colab": {
   "collapsed_sections": [],
   "name": "autoencoder.ipynb",
   "toc_visible": true
  },
  "kernelspec": {
   "name": "python3",
   "display_name": "Python 3.9.7 64-bit"
  },
  "language_info": {
   "codemirror_mode": {
    "name": "ipython",
    "version": 3
   },
   "file_extension": ".py",
   "mimetype": "text/x-python",
   "name": "python",
   "nbconvert_exporter": "python",
   "pygments_lexer": "ipython3",
   "version": "3.9.7"
  },
  "interpreter": {
   "hash": "ee5cc6fef2d70a7e71ee3826687cbd150f18158e0b1eef11d4f4f92bb920e304"
  }
 },
 "nbformat": 4,
 "nbformat_minor": 1
}